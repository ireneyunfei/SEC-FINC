{
 "cells": [
  {
   "cell_type": "code",
   "execution_count": 1,
   "metadata": {},
   "outputs": [],
   "source": [
    "import findspark\n",
    "findspark.init()"
   ]
  },
  {
   "cell_type": "code",
   "execution_count": 2,
   "metadata": {},
   "outputs": [],
   "source": [
    "from pyspark.sql import SparkSession\n",
    "spark = SparkSession.builder.appName('abc').getOrCreate()"
   ]
  },
  {
   "cell_type": "markdown",
   "metadata": {},
   "source": [
    "## EXPLORATION of df1"
   ]
  },
  {
   "cell_type": "code",
   "execution_count": 5,
   "metadata": {},
   "outputs": [],
   "source": [
    "df1 = spark.read.csv('s3://sec-finc/t1/',header = False)"
   ]
  },
  {
   "cell_type": "code",
   "execution_count": 6,
   "metadata": {},
   "outputs": [
    {
     "name": "stdout",
     "output_type": "stream",
     "text": [
      "+--------------------+\n",
      "|                 _c0|\n",
      "+--------------------+\n",
      "|147793216011396\t0...|\n",
      "|147793216011552\t0...|\n",
      "|147793216012172\t0...|\n",
      "|147793216012878\t0...|\n",
      "|147793216013334\t0...|\n",
      "|147793216013650\t0...|\n",
      "|147793216013919\t0...|\n",
      "|147793217000195\t0...|\n",
      "|147793217000472\t0...|\n",
      "|147793217000749\t0...|\n",
      "|147793217000776\t0...|\n",
      "|147793217001513\t0...|\n",
      "|147793217001669\t0...|\n",
      "|147793217001708\t0...|\n",
      "|147793217001790\t0...|\n",
      "|147793217002410\t0...|\n",
      "|147793217002414\t0...|\n",
      "|147793217002566\t0...|\n",
      "|147793217002839\t0...|\n",
      "|147793217003607\t0...|\n",
      "+--------------------+\n",
      "only showing top 20 rows\n",
      "\n"
     ]
    }
   ],
   "source": [
    "df1.show()"
   ]
  },
  {
   "cell_type": "code",
   "execution_count": 12,
   "metadata": {},
   "outputs": [],
   "source": [
    "from pyspark.sql.functions import split, explode,col\n",
    "col_names = ['accession_number_int','accession_number','cik','company_name',\n",
    "             'filing_date','document_type','document_period_end_date','current_fiscal_year_end_date',\n",
    "             'document_fiscal_year_focus','document_fiscal_period_focus','current_fiscal_year_end_month',\n",
    "             'amendment_flag','assigned_sic','irs_number','state_of_incorporation','mailing_address_street1',\n",
    "             'mailing_address_street2','mailing_address_city','mailing_address_state','mailing_address_zip',\n",
    "             'business_address_street1','business_address_street2','business_address_city','business_address_state',\n",
    "             'business_address_zip','mailing_phone_number','business_phone_number']\n",
    "for i in range(0,len(col_names)):\n",
    "    df1 = df1.withColumn(col_names[i], split(col(\"_c0\"), \"\\t\")[i]).cache()"
   ]
  },
  {
   "cell_type": "code",
   "execution_count": 14,
   "metadata": {},
   "outputs": [
    {
     "name": "stdout",
     "output_type": "stream",
     "text": [
      "+--------------------+--------------------+-------+--------------------+-----------+-------------+------------------------+----------------------------+--------------------------+----------------------------+-----------------------------+--------------+------------+----------+----------------------+-----------------------+-----------------------+--------------------+---------------------+-------------------+------------------------+------------------------+---------------------+----------------------+--------------------+--------------------+---------------------+\n",
      "|accession_number_int|    accession_number|    cik|        company_name|filing_date|document_type|document_period_end_date|current_fiscal_year_end_date|document_fiscal_year_focus|document_fiscal_period_focus|current_fiscal_year_end_month|amendment_flag|assigned_sic|irs_number|state_of_incorporation|mailing_address_street1|mailing_address_street2|mailing_address_city|mailing_address_state|mailing_address_zip|business_address_street1|business_address_street2|business_address_city|business_address_state|business_address_zip|mailing_phone_number|business_phone_number|\n",
      "+--------------------+--------------------+-------+--------------------+-----------+-------------+------------------------+----------------------------+--------------------------+----------------------------+-----------------------------+--------------+------------+----------+----------------------+-----------------------+-----------------------+--------------------+---------------------+-------------------+------------------------+------------------------+---------------------+----------------------+--------------------+--------------------+---------------------+\n",
      "|     147793216011396|0001477932-16-011396|1528697|     BOOKEDBYUS INC.| 2016-07-15|         10-Q|              2016-05-31|                     --08-31|                      2016|                          Q3|                            8|         false|        5045|261679929 |                    NV|   619 S. RIDGELEY D...|                     \\N|         LOS ANGELES|                   CA|              90036|    619 S. RIDGELEY D...|                      \\N|          LOS ANGELES|                    CA|               90036|                  \\N|         (323) 634-10|\n",
      "|     147793216011552|0001477932-16-011552|1532926|                 BRK|       null|         null|                    null|                        null|                      null|                        null|                         null|          null|        null|      null|                  null|                   null|                   null|                null|                 null|               null|                    null|                    null|                 null|                  null|                null|                null|                 null|\n",
      "|     147793216012172|0001477932-16-012172|1317839| UMATRIN HOLDING LTD| 2016-08-22|         10-Q|              2016-06-30|                     --12-31|                      2016|                          Q2|                           12|         false|        7389|870814235 |                    \\N|                  NO.32|                   null|                null|                 null|               null|                    null|                    null|                 null|                  null|                null|                null|                 null|\n",
      "|     147793216012878|0001477932-16-012878|1639234|              T-BAMM| 2016-10-11|         10-Q|              2016-08-31|                     --02-28|                      2017|                          Q2|                            2|         false|        5651|473176820 |                    NV|   112 NORTH CURRY S...|                     \\N|         CARSON CITY|                   NV|              89703|    112 NORTH CURRY S...|                      \\N|          CARSON CITY|                    NV|               89703|                  \\N|         888-297-9207|\n",
      "|     147793216013334|0001477932-16-013334|1537528|              ZOSANO|       null|         null|                    null|                        null|                      null|                        null|                         null|          null|        null|      null|                  null|                   null|                   null|                null|                 null|               null|                    null|                    null|                 null|                  null|                null|                null|                 null|\n",
      "|     147793216013650|0001477932-16-013650|1388486|SPOTLIGHT INNOVATION|       null|         null|                    null|                        null|                      null|                        null|                         null|          null|        null|      null|                  null|                   null|                   null|                null|                 null|               null|                    null|                    null|                 null|                  null|                null|                null|                 null|\n",
      "|     147793216013919|0001477932-16-013919|1528697|     BOOKEDBYUS INC.| 2016-12-05|         10-K|              2016-08-31|                     --08-31|                      2016|                          FY|                            8|         false|        5045|261679929 |                    NV|   619 S. RIDGELEY D...|                     \\N|         LOS ANGELES|                   CA|              90036|    619 S. RIDGELEY D...|                      \\N|          LOS ANGELES|                    CA|               90036|                  \\N|         (323) 634-10|\n",
      "|     147793217000195|0001477932-17-000195|1687065|    KOKOS GROUP INC.| 2017-01-13|         10-Q|              2016-11-30|                     --08-31|                      2017|                          Q1|                            8|         false|        2086|813433108 |                    NV|   121 SW SALMON STREET|             SUITE 1100|            PORTLAND|                   OR|              97204|    121 SW SALMON STREET|              SUITE 1100|             PORTLAND|                    OR|               97204|                  \\N|         503-471-1332|\n",
      "|     147793217000472|0001477932-17-000472|1624140|PARAMOUNT SUPPLY INC| 2017-01-31|         10-Q|              2016-12-31|                     --09-30|                      2017|                          Q1|                            9|         false|        3100|352515740 |                    NV|   40 LIELAIS PROSPEKTS|                     \\N|           VENTSPILS|                   1R|            LV-3601|    40 LIELAIS PROSPEKTS|                      \\N|            VENTSPILS|                    1R|             LV-3601|                  \\N|         702-509-1266|\n",
      "|     147793217000749|0001477932-17-000749|1520118|            EMS FIND|       null|         null|                    null|                        null|                      null|                        null|                         null|          null|        null|      null|                  null|                   null|                   null|                null|                 null|               null|                    null|                    null|                 null|                  null|                null|                null|                 null|\n",
      "|     147793217000776|0001477932-17-000776|1546853|SKKYNET CLOUD SYS...|       null|         null|                    null|                        null|                      null|                        null|                         null|          null|        null|      null|                  null|                   null|                   null|                null|                 null|               null|                    null|                    null|                 null|                  null|                null|                null|                 null|\n",
      "|     147793217001513|0001477932-17-001513|1487931|         FISION CORP| 2017-04-03|       10-K/A|              2016-12-31|                     --12-31|                      2016|                          FY|                           12|         false|        6770|272205792 |                    \\N|   430 FIRST AVENUE ...|              SUITE 620|         MINNEAPOLIS|                   MN|              55401|    430 FIRST AVENUE ...|               SUITE 620|          MINNEAPOLIS|                    MN|               55401|                  \\N|         612-927-3700|\n",
      "|     147793217001669|0001477932-17-001669|1402371|     ELRAY RESOURCES|       null|         null|                    null|                        null|                      null|                        null|                         null|          null|        null|      null|                  null|                   null|                   null|                null|                 null|               null|                    null|                    null|                 null|                  null|                null|                null|                 null|\n",
      "|     147793217001708|0001477932-17-001708|1443863|       BIOCORRX INC.| 2017-04-13|         10-K|              2016-12-31|                     --12-31|                      2016|                          FY|                           12|         false|        8093|900967447 |                    \\N|   2390 EAST ORANGEW...|              SUITE 575|             ANAHEIM|                   CA|              92806|    2390 EAST ORANGEW...|               SUITE 575|              ANAHEIM|                    CA|               92806|                  \\N|         (714) 462-48|\n",
      "|     147793217001790|0001477932-17-001790|1125699|  DAIS ANALYTIC CORP| 2017-04-17|         10-K|              2016-12-31|                     --12-31|                      2016|                          FY|                           12|         false|        3990|141760865 |                    NY|   11552 PROSPEROUS ...|                     \\N|              ODESSA|                   FL|             335566|    11552 PROSPEROUS ...|                      \\N|               ODESSA|                    FL|               33556|                  \\N|         (727) 375-84|\n",
      "|     147793217002410|0001477932-17-002410|1643319|SLEEPAID HOLDING CO.| 2017-05-19|         10-Q|              2017-03-31|                     --12-31|                      2017|                          Q1|                           12|         false|        5020|473785730 |                    NV|   RM 10 1/F WELLBOR...|                     \\N|           HONG KONG|                   F4|                 \\N|    RM 10 1/F WELLBOR...|                      \\N|            HONG KONG|                    F4|                  \\N|                  \\N|         (852) 280623|\n",
      "|     147793217002414|0001477932-17-002414| 936446|PRECISION AEROSPA...|       null|         null|                    null|                        null|                      null|                        null|                         null|          null|        null|      null|                  null|                   null|                   null|                null|                 null|               null|                    null|                    null|                 null|                  null|                null|                null|                 null|\n",
      "|     147793217002566|0001477932-17-002566|1619096|SUMMIT NETWORKS INC.| 2017-05-26|       10-K/A|              2016-07-31|                     --07-31|                      2016|                          FY|                            7|          true|        3231|352511257 |                    NV|     JAUNCIEMA GATVE 40|         ZIEMELU RAJONS|                RIGA|                   1R|            LV-1023|      JAUNCIEMA GATVE 40|          ZIEMELU RAJONS|                 RIGA|                    1R|             LV-1023|                  \\N|         775-572-8824|\n",
      "|     147793217002839|0001477932-17-002839| 859747|      1PM INDUSTRIES| 2017-06-14|         10-K|              2017-02-28|                     --02-28|                      2017|                          FY|                            2|         false|        2000|473278534 |                    \\N|    312 S BEVERLY DRIVE|                  #3401|       BEVERLY HILLS|                   CA|              90212|     312 S BEVERLY DRIVE|                   #3401|        BEVERLY HILLS|                    CA|               90212|                  \\N|         424-253-9991|\n",
      "|     147793217003607|0001477932-17-003607|1438673|      EVERGREEN-AGRA|       null|         null|                    null|                        null|                      null|                        null|                         null|          null|        null|      null|                  null|                   null|                   null|                null|                 null|               null|                    null|                    null|                 null|                  null|                null|                null|                 null|\n",
      "+--------------------+--------------------+-------+--------------------+-----------+-------------+------------------------+----------------------------+--------------------------+----------------------------+-----------------------------+--------------+------------+----------+----------------------+-----------------------+-----------------------+--------------------+---------------------+-------------------+------------------------+------------------------+---------------------+----------------------+--------------------+--------------------+---------------------+\n",
      "only showing top 20 rows\n",
      "\n"
     ]
    }
   ],
   "source": [
    "df1 = df1.drop('_c0')\n",
    "df1.show()"
   ]
  },
  {
   "cell_type": "code",
   "execution_count": 15,
   "metadata": {},
   "outputs": [
    {
     "data": {
      "text/plain": [
       "[Row(accession_number_int='147793216011396', accession_number='0001477932-16-011396', cik='1528697', company_name='BOOKEDBYUS INC.', filing_date='2016-07-15', document_type='10-Q', document_period_end_date='2016-05-31', current_fiscal_year_end_date='--08-31', document_fiscal_year_focus='2016', document_fiscal_period_focus='Q3', current_fiscal_year_end_month='8', amendment_flag='false', assigned_sic='5045', irs_number='261679929 ', state_of_incorporation='NV', mailing_address_street1='619 S. RIDGELEY DRIVE', mailing_address_street2='\\\\N', mailing_address_city='LOS ANGELES', mailing_address_state='CA', mailing_address_zip='90036', business_address_street1='619 S. RIDGELEY DRIVE', business_address_street2='\\\\N', business_address_city='LOS ANGELES', business_address_state='CA', business_address_zip='90036', mailing_phone_number='\\\\N', business_phone_number='(323) 634-10'),\n",
       " Row(accession_number_int='147793216011552', accession_number='0001477932-16-011552', cik='1532926', company_name='BRK', filing_date=None, document_type=None, document_period_end_date=None, current_fiscal_year_end_date=None, document_fiscal_year_focus=None, document_fiscal_period_focus=None, current_fiscal_year_end_month=None, amendment_flag=None, assigned_sic=None, irs_number=None, state_of_incorporation=None, mailing_address_street1=None, mailing_address_street2=None, mailing_address_city=None, mailing_address_state=None, mailing_address_zip=None, business_address_street1=None, business_address_street2=None, business_address_city=None, business_address_state=None, business_address_zip=None, mailing_phone_number=None, business_phone_number=None),\n",
       " Row(accession_number_int='147793216012172', accession_number='0001477932-16-012172', cik='1317839', company_name='UMATRIN HOLDING LTD', filing_date='2016-08-22', document_type='10-Q', document_period_end_date='2016-06-30', current_fiscal_year_end_date='--12-31', document_fiscal_year_focus='2016', document_fiscal_period_focus='Q2', current_fiscal_year_end_month='12', amendment_flag='false', assigned_sic='7389', irs_number='870814235 ', state_of_incorporation='\\\\N', mailing_address_street1='NO.32', mailing_address_street2=None, mailing_address_city=None, mailing_address_state=None, mailing_address_zip=None, business_address_street1=None, business_address_street2=None, business_address_city=None, business_address_state=None, business_address_zip=None, mailing_phone_number=None, business_phone_number=None),\n",
       " Row(accession_number_int='147793216012878', accession_number='0001477932-16-012878', cik='1639234', company_name='T-BAMM', filing_date='2016-10-11', document_type='10-Q', document_period_end_date='2016-08-31', current_fiscal_year_end_date='--02-28', document_fiscal_year_focus='2017', document_fiscal_period_focus='Q2', current_fiscal_year_end_month='2', amendment_flag='false', assigned_sic='5651', irs_number='473176820 ', state_of_incorporation='NV', mailing_address_street1='112 NORTH CURRY STREET', mailing_address_street2='\\\\N', mailing_address_city='CARSON CITY', mailing_address_state='NV', mailing_address_zip='89703', business_address_street1='112 NORTH CURRY STREET', business_address_street2='\\\\N', business_address_city='CARSON CITY', business_address_state='NV', business_address_zip='89703', mailing_phone_number='\\\\N', business_phone_number='888-297-9207'),\n",
       " Row(accession_number_int='147793216013334', accession_number='0001477932-16-013334', cik='1537528', company_name='ZOSANO', filing_date=None, document_type=None, document_period_end_date=None, current_fiscal_year_end_date=None, document_fiscal_year_focus=None, document_fiscal_period_focus=None, current_fiscal_year_end_month=None, amendment_flag=None, assigned_sic=None, irs_number=None, state_of_incorporation=None, mailing_address_street1=None, mailing_address_street2=None, mailing_address_city=None, mailing_address_state=None, mailing_address_zip=None, business_address_street1=None, business_address_street2=None, business_address_city=None, business_address_state=None, business_address_zip=None, mailing_phone_number=None, business_phone_number=None)]"
      ]
     },
     "execution_count": 15,
     "metadata": {},
     "output_type": "execute_result"
    }
   ],
   "source": [
    "df1.take(5)"
   ]
  },
  {
   "cell_type": "code",
   "execution_count": 16,
   "metadata": {},
   "outputs": [],
   "source": [
    "df1.createOrReplaceTempView('company_submission')"
   ]
  },
  {
   "cell_type": "code",
   "execution_count": 17,
   "metadata": {},
   "outputs": [
    {
     "name": "stdout",
     "output_type": "stream",
     "text": [
      "+----------------------------+\n",
      "|count(DISTINCT company_name)|\n",
      "+----------------------------+\n",
      "|                       15807|\n",
      "+----------------------------+\n",
      "\n"
     ]
    }
   ],
   "source": [
    "## number of companies:\n",
    "spark.sql('''\n",
    "    SELECT count(distinct a.company_name)\n",
    "    FROM company_submission as a\n",
    "''').show()"
   ]
  },
  {
   "cell_type": "code",
   "execution_count": 21,
   "metadata": {},
   "outputs": [
    {
     "name": "stdout",
     "output_type": "stream",
     "text": [
      "+-------------+----+\n",
      "|document_type| cnt|\n",
      "+-------------+----+\n",
      "|         10-Q|9318|\n",
      "|         10-K|8423|\n",
      "|         null|5330|\n",
      "|       10-Q/A|3103|\n",
      "|       10-K/A|1558|\n",
      "|         20-F| 847|\n",
      "|       20-F/A| 338|\n",
      "|         40-F| 149|\n",
      "|        10-KT| 124|\n",
      "|       40-F/A|  33|\n",
      "|        10-QT|  27|\n",
      "|      10-KT/A|  11|\n",
      "|        424B3|   6|\n",
      "|     10-12G/A|   3|\n",
      "|      10-QT/A|   3|\n",
      "|      DEF 14A|   1|\n",
      "|         10-D|   1|\n",
      "|       10-12G|   1|\n",
      "+-------------+----+\n",
      "\n"
     ]
    }
   ],
   "source": [
    "## type of doc\n",
    "spark.sql('''\n",
    "    SELECT a.document_type,count(distinct a.company_name) as cnt\n",
    "    FROM company_submission as a\n",
    "    group by a.document_type\n",
    "    order by cnt DESC\n",
    "''').show()"
   ]
  },
  {
   "cell_type": "code",
   "execution_count": 24,
   "metadata": {},
   "outputs": [
    {
     "name": "stdout",
     "output_type": "stream",
     "text": [
      "+--------------------------+----+\n",
      "|document_fiscal_year_focus| cnt|\n",
      "+--------------------------+----+\n",
      "|                        \\N| 389|\n",
      "|                     43465|   1|\n",
      "|                      2107|   1|\n",
      "|                      2020|   1|\n",
      "|                      2019| 394|\n",
      "|                      2018|3736|\n",
      "|                      2017|3955|\n",
      "|                      2016|4135|\n",
      "|                      2015|4410|\n",
      "|                      2014|4707|\n",
      "|                      2013|4923|\n",
      "|                      2012|5082|\n",
      "|                      2011|4630|\n",
      "|                      2010|1135|\n",
      "|                      2009|   3|\n",
      "|                      2001|   1|\n",
      "+--------------------------+----+\n",
      "\n"
     ]
    }
   ],
   "source": [
    "## 10-K yearly submission\n",
    "spark.sql('''\n",
    "    SELECT a.document_fiscal_year_focus,count(distinct a.company_name) as cnt\n",
    "    FROM company_submission as a\n",
    "    WHERE document_type == '10-K'\n",
    "    group by a.document_fiscal_year_focus\n",
    "    order by a.document_fiscal_year_focus DESC\n",
    "''').show()\n"
   ]
  },
  {
   "cell_type": "code",
   "execution_count": null,
   "metadata": {},
   "outputs": [],
   "source": [
    "***data cleaning***"
   ]
  },
  {
   "cell_type": "code",
   "execution_count": null,
   "metadata": {},
   "outputs": [],
   "source": []
  },
  {
   "cell_type": "markdown",
   "metadata": {},
   "source": [
    "## EXPLORATION of df3"
   ]
  },
  {
   "cell_type": "code",
   "execution_count": 29,
   "metadata": {},
   "outputs": [],
   "source": [
    "df3 = spark.read.text('s3://sec-finc/t3/')"
   ]
  },
  {
   "cell_type": "code",
   "execution_count": 30,
   "metadata": {},
   "outputs": [
    {
     "name": "stdout",
     "output_type": "stream",
     "text": [
      "+--------------------+\n",
      "|               value|\n",
      "+--------------------+\n",
      "|702325\t7023251700...|\n",
      "|702325\t7023251700...|\n",
      "|39368\t14377491701...|\n",
      "|702325\t7023251700...|\n",
      "|39368\t14377491701...|\n",
      "|1008586\t162828016...|\n",
      "|1008586\t162828016...|\n",
      "|1326089\t155837018...|\n",
      "|1326089\t155837018...|\n",
      "|1326089\t155837018...|\n",
      "|1681903\t168190318...|\n",
      "|1272830\t127283017...|\n",
      "|1272830\t127283017...|\n",
      "|1681903\t168190318...|\n",
      "|1681903\t168190318...|\n",
      "|1681903\t168190318...|\n",
      "|1326089\t155837018...|\n",
      "|1681903\t168190318...|\n",
      "|1326089\t155837018...|\n",
      "|1503636\t144530513...|\n",
      "+--------------------+\n",
      "only showing top 20 rows\n",
      "\n"
     ]
    }
   ],
   "source": [
    "df3.show()"
   ]
  },
  {
   "cell_type": "code",
   "execution_count": 31,
   "metadata": {},
   "outputs": [],
   "source": [
    "col_names2 = ['cik','accession_number_int','filing_date','datapoint_id','datapoint_name','version',\n",
    "              'segment_label','segment_hash','start_date','end_date','period_month','string_value','numeric_value',\n",
    "              'decimals','unit','footnotes']\n",
    "for i in range(0,len(col_names2)):\n",
    "    df3 = df3.withColumn(col_names2[i], split(col(\"value\"), \"\\t\")[i]).cache()"
   ]
  },
  {
   "cell_type": "code",
   "execution_count": 32,
   "metadata": {},
   "outputs": [],
   "source": [
    "df3 = df3.drop('value')"
   ]
  },
  {
   "cell_type": "code",
   "execution_count": null,
   "metadata": {},
   "outputs": [],
   "source": [
    "df3.show()"
   ]
  },
  {
   "cell_type": "code",
   "execution_count": null,
   "metadata": {},
   "outputs": [],
   "source": [
    "df3.take(5)"
   ]
  },
  {
   "cell_type": "code",
   "execution_count": null,
   "metadata": {},
   "outputs": [],
   "source": [
    "df3.createOrReplaceTempView('data_point')"
   ]
  },
  {
   "cell_type": "code",
   "execution_count": null,
   "metadata": {},
   "outputs": [],
   "source": []
  },
  {
   "cell_type": "code",
   "execution_count": null,
   "metadata": {},
   "outputs": [],
   "source": []
  },
  {
   "cell_type": "markdown",
   "metadata": {},
   "source": [
    "## Part 1. Datasets Exploration"
   ]
  },
  {
   "cell_type": "markdown",
   "metadata": {},
   "source": [
    "```\n",
    "requirment\n",
    "Explore, assess and visualize the data. \n",
    "Aggregate, count, and summarize. \n",
    "```"
   ]
  },
  {
   "cell_type": "code",
   "execution_count": null,
   "metadata": {
    "collapsed": true,
    "jupyter": {
     "outputs_hidden": true
    }
   },
   "outputs": [],
   "source": [
    "## Read in\n",
    "## parse or reformat\n"
   ]
  },
  {
   "cell_type": "code",
   "execution_count": null,
   "metadata": {
    "collapsed": true,
    "jupyter": {
     "outputs_hidden": true
    }
   },
   "outputs": [],
   "source": [
    "#one by one explore, \n",
    "#e.g. for company_submission, print the year range, how many company submitted, the table of doc_type & frequency\n",
    "\n",
    "#select subsets and join them together\n",
    "#e.g. table#3&4, data points and report_presentation_line_item\n"
   ]
  },
  {
   "cell_type": "code",
   "execution_count": null,
   "metadata": {
    "collapsed": true,
    "jupyter": {
     "outputs_hidden": true
    }
   },
   "outputs": [],
   "source": [
    "## redundancy regarding to the data points\n",
    "## count nulls\n"
   ]
  },
  {
   "cell_type": "code",
   "execution_count": null,
   "metadata": {
    "collapsed": true,
    "jupyter": {
     "outputs_hidden": true
    }
   },
   "outputs": [],
   "source": [
    "## Provide potential next steps, \n",
    "## e.g. what relationship can be illustrated in the plot, for example the #of companies against yr"
   ]
  },
  {
   "cell_type": "code",
   "execution_count": null,
   "metadata": {
    "collapsed": true,
    "jupyter": {
     "outputs_hidden": true
    }
   },
   "outputs": [],
   "source": []
  },
  {
   "cell_type": "code",
   "execution_count": null,
   "metadata": {
    "collapsed": true,
    "jupyter": {
     "outputs_hidden": true
    }
   },
   "outputs": [],
   "source": []
  },
  {
   "cell_type": "code",
   "execution_count": null,
   "metadata": {
    "collapsed": true,
    "jupyter": {
     "outputs_hidden": true
    }
   },
   "outputs": [],
   "source": []
  }
 ],
 "metadata": {
  "kernelspec": {
   "display_name": "Python 3",
   "language": "python",
   "name": "python3"
  },
  "language_info": {
   "codemirror_mode": {
    "name": "ipython",
    "version": 3
   },
   "file_extension": ".py",
   "mimetype": "text/x-python",
   "name": "python",
   "nbconvert_exporter": "python",
   "pygments_lexer": "ipython3",
   "version": "3.6.10"
  }
 },
 "nbformat": 4,
 "nbformat_minor": 4
}
