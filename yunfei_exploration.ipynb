{
 "cells": [
  {
   "cell_type": "code",
   "execution_count": 1,
   "metadata": {
    "collapsed": true
   },
   "outputs": [],
   "source": [
    "import findspark\n",
    "findspark.init()"
   ]
  },
  {
   "cell_type": "code",
   "execution_count": 2,
   "metadata": {
    "collapsed": true
   },
   "outputs": [],
   "source": [
    "from pyspark.sql import SparkSession\n",
    "spark = SparkSession.builder.appName('abc').getOrCreate()"
   ]
  },
  {
   "cell_type": "code",
   "execution_count": 3,
   "metadata": {
    "collapsed": true
   },
   "outputs": [],
   "source": [
    "df1 = spark.read.csv('s3://sec-finc/t1/',header = True)"
   ]
  },
  {
   "cell_type": "code",
   "execution_count": 5,
   "metadata": {},
   "outputs": [
    {
     "data": {
      "text/plain": [
       "[Row(147793216011396\t0001477932-16-011396\t1528697\tBOOKEDBYUS INC.\t2016-07-15\t10-Q\t2016-05-31\t--08-31\t2016\tQ3\t8\tfalse\t5045\t261679929 \tNV\t619 S. RIDGELEY DRIVE\t\\N\tLOS ANGELES\tCA\t90036\t619 S. RIDGELEY DRIVE\t\\N\tLOS ANGELES\tCA\t90036\t\\N\t(323) 634-10='147793216011552\\t0001477932-16-011552\\t1532926\\tBRK'),\n",
       " Row(147793216011396\t0001477932-16-011396\t1528697\tBOOKEDBYUS INC.\t2016-07-15\t10-Q\t2016-05-31\t--08-31\t2016\tQ3\t8\tfalse\t5045\t261679929 \tNV\t619 S. RIDGELEY DRIVE\t\\N\tLOS ANGELES\tCA\t90036\t619 S. RIDGELEY DRIVE\t\\N\tLOS ANGELES\tCA\t90036\t\\N\t(323) 634-10='147793216012172\\t0001477932-16-012172\\t1317839\\tUMATRIN HOLDING LTD\\t2016-08-22\\t10-Q\\t2016-06-30\\t--12-31\\t2016\\tQ2\\t12\\tfalse\\t7389\\t870814235 \\t\\\\N\\tNO.32'),\n",
       " Row(147793216011396\t0001477932-16-011396\t1528697\tBOOKEDBYUS INC.\t2016-07-15\t10-Q\t2016-05-31\t--08-31\t2016\tQ3\t8\tfalse\t5045\t261679929 \tNV\t619 S. RIDGELEY DRIVE\t\\N\tLOS ANGELES\tCA\t90036\t619 S. RIDGELEY DRIVE\t\\N\tLOS ANGELES\tCA\t90036\t\\N\t(323) 634-10='147793216012878\\t0001477932-16-012878\\t1639234\\tT-BAMM\\t2016-10-11\\t10-Q\\t2016-08-31\\t--02-28\\t2017\\tQ2\\t2\\tfalse\\t5651\\t473176820 \\tNV\\t112 NORTH CURRY STREET\\t\\\\N\\tCARSON CITY\\tNV\\t89703\\t112 NORTH CURRY STREET\\t\\\\N\\tCARSON CITY\\tNV\\t89703\\t\\\\N\\t888-297-9207'),\n",
       " Row(147793216011396\t0001477932-16-011396\t1528697\tBOOKEDBYUS INC.\t2016-07-15\t10-Q\t2016-05-31\t--08-31\t2016\tQ3\t8\tfalse\t5045\t261679929 \tNV\t619 S. RIDGELEY DRIVE\t\\N\tLOS ANGELES\tCA\t90036\t619 S. RIDGELEY DRIVE\t\\N\tLOS ANGELES\tCA\t90036\t\\N\t(323) 634-10='147793216013334\\t0001477932-16-013334\\t1537528\\tZOSANO'),\n",
       " Row(147793216011396\t0001477932-16-011396\t1528697\tBOOKEDBYUS INC.\t2016-07-15\t10-Q\t2016-05-31\t--08-31\t2016\tQ3\t8\tfalse\t5045\t261679929 \tNV\t619 S. RIDGELEY DRIVE\t\\N\tLOS ANGELES\tCA\t90036\t619 S. RIDGELEY DRIVE\t\\N\tLOS ANGELES\tCA\t90036\t\\N\t(323) 634-10='147793216013650\\t0001477932-16-013650\\t1388486\\tSPOTLIGHT INNOVATION'),\n",
       " Row(147793216011396\t0001477932-16-011396\t1528697\tBOOKEDBYUS INC.\t2016-07-15\t10-Q\t2016-05-31\t--08-31\t2016\tQ3\t8\tfalse\t5045\t261679929 \tNV\t619 S. RIDGELEY DRIVE\t\\N\tLOS ANGELES\tCA\t90036\t619 S. RIDGELEY DRIVE\t\\N\tLOS ANGELES\tCA\t90036\t\\N\t(323) 634-10='147793216013919\\t0001477932-16-013919\\t1528697\\tBOOKEDBYUS INC.\\t2016-12-05\\t10-K\\t2016-08-31\\t--08-31\\t2016\\tFY\\t8\\tfalse\\t5045\\t261679929 \\tNV\\t619 S. RIDGELEY DRIVE\\t\\\\N\\tLOS ANGELES\\tCA\\t90036\\t619 S. RIDGELEY DRIVE\\t\\\\N\\tLOS ANGELES\\tCA\\t90036\\t\\\\N\\t(323) 634-10'),\n",
       " Row(147793216011396\t0001477932-16-011396\t1528697\tBOOKEDBYUS INC.\t2016-07-15\t10-Q\t2016-05-31\t--08-31\t2016\tQ3\t8\tfalse\t5045\t261679929 \tNV\t619 S. RIDGELEY DRIVE\t\\N\tLOS ANGELES\tCA\t90036\t619 S. RIDGELEY DRIVE\t\\N\tLOS ANGELES\tCA\t90036\t\\N\t(323) 634-10='147793217000195\\t0001477932-17-000195\\t1687065\\tKOKOS GROUP INC.\\t2017-01-13\\t10-Q\\t2016-11-30\\t--08-31\\t2017\\tQ1\\t8\\tfalse\\t2086\\t813433108 \\tNV\\t121 SW SALMON STREET\\tSUITE 1100\\tPORTLAND\\tOR\\t97204\\t121 SW SALMON STREET\\tSUITE 1100\\tPORTLAND\\tOR\\t97204\\t\\\\N\\t503-471-1332'),\n",
       " Row(147793216011396\t0001477932-16-011396\t1528697\tBOOKEDBYUS INC.\t2016-07-15\t10-Q\t2016-05-31\t--08-31\t2016\tQ3\t8\tfalse\t5045\t261679929 \tNV\t619 S. RIDGELEY DRIVE\t\\N\tLOS ANGELES\tCA\t90036\t619 S. RIDGELEY DRIVE\t\\N\tLOS ANGELES\tCA\t90036\t\\N\t(323) 634-10='147793217000472\\t0001477932-17-000472\\t1624140\\tPARAMOUNT SUPPLY INC\\t2017-01-31\\t10-Q\\t2016-12-31\\t--09-30\\t2017\\tQ1\\t9\\tfalse\\t3100\\t352515740 \\tNV\\t40 LIELAIS PROSPEKTS\\t\\\\N\\tVENTSPILS\\t1R\\tLV-3601\\t40 LIELAIS PROSPEKTS\\t\\\\N\\tVENTSPILS\\t1R\\tLV-3601\\t\\\\N\\t702-509-1266'),\n",
       " Row(147793216011396\t0001477932-16-011396\t1528697\tBOOKEDBYUS INC.\t2016-07-15\t10-Q\t2016-05-31\t--08-31\t2016\tQ3\t8\tfalse\t5045\t261679929 \tNV\t619 S. RIDGELEY DRIVE\t\\N\tLOS ANGELES\tCA\t90036\t619 S. RIDGELEY DRIVE\t\\N\tLOS ANGELES\tCA\t90036\t\\N\t(323) 634-10='147793217000749\\t0001477932-17-000749\\t1520118\\tEMS FIND'),\n",
       " Row(147793216011396\t0001477932-16-011396\t1528697\tBOOKEDBYUS INC.\t2016-07-15\t10-Q\t2016-05-31\t--08-31\t2016\tQ3\t8\tfalse\t5045\t261679929 \tNV\t619 S. RIDGELEY DRIVE\t\\N\tLOS ANGELES\tCA\t90036\t619 S. RIDGELEY DRIVE\t\\N\tLOS ANGELES\tCA\t90036\t\\N\t(323) 634-10='147793217000776\\t0001477932-17-000776\\t1546853\\tSKKYNET CLOUD SYSTEMS')]"
      ]
     },
     "execution_count": 5,
     "metadata": {},
     "output_type": "execute_result"
    }
   ],
   "source": [
    "df1.take(10)"
   ]
  },
  {
   "cell_type": "code",
   "execution_count": 6,
   "metadata": {
    "collapsed": true
   },
   "outputs": [],
   "source": [
    "df2 = spark.read.csv('s3://sec-finc/t2/',header = True)"
   ]
  },
  {
   "cell_type": "code",
   "execution_count": 7,
   "metadata": {},
   "outputs": [
    {
     "name": "stdout",
     "output_type": "stream",
     "text": [
      "+--------------------------------------------------------------------------------------------+\n",
      "|831259\t2010-11-05\t83125910000070\t42\t\\N\tDisclosure - ACCOUNTS PAYABLE AND ACCRUED LIABILITIES|\n",
      "+--------------------------------------------------------------------------------------------+\n",
      "|                                                                        842162\t2018-10-25...|\n",
      "|                                                                        842162\t2018-10-25...|\n",
      "|                                                                        842162\t2018-10-25...|\n",
      "|                                                                        920448\t2014-11-06...|\n",
      "|                                                                        920448\t2014-11-06...|\n",
      "|                                                                        936395\t2015-06-10...|\n",
      "|                                                                        936395\t2015-06-10...|\n",
      "|                                                                        733076\t2014-03-31...|\n",
      "|                                                                        733076\t2014-03-31...|\n",
      "|                                                                        733076\t2014-03-31...|\n",
      "|                                                                        733076\t2014-03-31...|\n",
      "|                                                                        733076\t2014-03-31...|\n",
      "|                                                                        733076\t2014-03-31...|\n",
      "|                                                                        1084580\t2010-10-1...|\n",
      "|                                                                        1182129\t2013-02-2...|\n",
      "|                                                                        1369241\t2018-03-0...|\n",
      "|                                                                        1369241\t2018-03-0...|\n",
      "|                                                                        1369241\t2018-03-0...|\n",
      "|                                                                        1369241\t2018-03-0...|\n",
      "|                                                                        1369241\t2018-03-0...|\n",
      "+--------------------------------------------------------------------------------------------+\n",
      "only showing top 20 rows\n",
      "\n"
     ]
    }
   ],
   "source": [
    "df2.show()"
   ]
  },
  {
   "cell_type": "code",
   "execution_count": 20,
   "metadata": {},
   "outputs": [
    {
     "name": "stdout",
     "output_type": "stream",
     "text": [
      "+--------------------+\n",
      "|               value|\n",
      "+--------------------+\n",
      "|147793216011396\t0...|\n",
      "|147793216011552\t0...|\n",
      "|147793216012172\t0...|\n",
      "|147793216012878\t0...|\n",
      "|147793216013334\t0...|\n",
      "|147793216013650\t0...|\n",
      "|147793216013919\t0...|\n",
      "|147793217000195\t0...|\n",
      "|147793217000472\t0...|\n",
      "|147793217000749\t0...|\n",
      "|147793217000776\t0...|\n",
      "|147793217001513\t0...|\n",
      "|147793217001669\t0...|\n",
      "|147793217001708\t0...|\n",
      "|147793217001790\t0...|\n",
      "|147793217002410\t0...|\n",
      "|147793217002414\t0...|\n",
      "|147793217002566\t0...|\n",
      "|147793217002839\t0...|\n",
      "|147793217003607\t0...|\n",
      "+--------------------+\n",
      "only showing top 20 rows\n",
      "\n"
     ]
    }
   ],
   "source": [
    "df1 = spark.read.text('s3://sec-finc/t1/') ##---FILE??\n",
    "df1.show()"
   ]
  },
  {
   "cell_type": "markdown",
   "metadata": {},
   "source": [
    "## Part 1. Datasets Exploration"
   ]
  },
  {
   "cell_type": "markdown",
   "metadata": {},
   "source": [
    "```\n",
    "requirment\n",
    "Explore, assess and visualize the data. \n",
    "Aggregate, count, and summarize. \n",
    "```"
   ]
  },
  {
   "cell_type": "code",
   "execution_count": null,
   "metadata": {
    "collapsed": true
   },
   "outputs": [],
   "source": [
    "## Read in\n",
    "## parse or reformat\n"
   ]
  },
  {
   "cell_type": "code",
   "execution_count": null,
   "metadata": {
    "collapsed": true
   },
   "outputs": [],
   "source": [
    "#one by one explore, \n",
    "#e.g. for company_submission, print the year range, how many company submitted, the table of doc_type & frequency\n",
    "\n",
    "#select subsets and join them together\n",
    "#e.g. table#3&4, data points and report_presentation_line_item\n"
   ]
  },
  {
   "cell_type": "code",
   "execution_count": null,
   "metadata": {
    "collapsed": true
   },
   "outputs": [],
   "source": [
    "## redundancy regarding to the data points\n",
    "## count nulls\n"
   ]
  },
  {
   "cell_type": "code",
   "execution_count": null,
   "metadata": {
    "collapsed": true
   },
   "outputs": [],
   "source": [
    "## Provide potential next steps, \n",
    "## e.g. what relationship can be illustrated in the plot, for example the #of companies against yr"
   ]
  },
  {
   "cell_type": "code",
   "execution_count": null,
   "metadata": {
    "collapsed": true
   },
   "outputs": [],
   "source": []
  },
  {
   "cell_type": "code",
   "execution_count": null,
   "metadata": {
    "collapsed": true
   },
   "outputs": [],
   "source": []
  },
  {
   "cell_type": "code",
   "execution_count": null,
   "metadata": {
    "collapsed": true
   },
   "outputs": [],
   "source": []
  }
 ],
 "metadata": {
  "kernelspec": {
   "display_name": "Python 3",
   "language": "python",
   "name": "python3"
  },
  "language_info": {
   "codemirror_mode": {
    "name": "ipython",
    "version": 3
   },
   "file_extension": ".py",
   "mimetype": "text/x-python",
   "name": "python",
   "nbconvert_exporter": "python",
   "pygments_lexer": "ipython3",
   "version": "3.6.3"
  }
 },
 "nbformat": 4,
 "nbformat_minor": 4
}
