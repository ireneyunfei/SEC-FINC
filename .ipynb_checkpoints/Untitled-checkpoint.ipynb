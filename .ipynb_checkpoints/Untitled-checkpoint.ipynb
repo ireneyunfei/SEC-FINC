{
 "cells": [
  {
   "cell_type": "code",
   "execution_count": 1,
   "metadata": {},
   "outputs": [],
   "source": [
    "import findspark\n",
    "findspark.init()"
   ]
  },
  {
   "cell_type": "code",
   "execution_count": 2,
   "metadata": {},
   "outputs": [
    {
     "data": {
      "text/html": [
       "\n",
       "            <div>\n",
       "                <p><b>SparkSession - in-memory</b></p>\n",
       "                \n",
       "        <div>\n",
       "            <p><b>SparkContext</b></p>\n",
       "\n",
       "            <p><a href=\"http://ip-172-31-23-125.ec2.internal:4040\">Spark UI</a></p>\n",
       "\n",
       "            <dl>\n",
       "              <dt>Version</dt>\n",
       "                <dd><code>v2.4.4</code></dd>\n",
       "              <dt>Master</dt>\n",
       "                <dd><code>yarn</code></dd>\n",
       "              <dt>AppName</dt>\n",
       "                <dd><code>abc</code></dd>\n",
       "            </dl>\n",
       "        </div>\n",
       "        \n",
       "            </div>\n",
       "        "
      ],
      "text/plain": [
       "<pyspark.sql.session.SparkSession at 0x7f0a5197e450>"
      ]
     },
     "execution_count": 2,
     "metadata": {},
     "output_type": "execute_result"
    }
   ],
   "source": [
    "from pyspark.sql import SparkSession\n",
    "spark = SparkSession.builder.appName('abc').getOrCreate()\n",
    "spark"
   ]
  },
  {
   "cell_type": "code",
   "execution_count": 4,
   "metadata": {},
   "outputs": [],
   "source": [
    "df = spark.read.parquet('s3://sec-finc/annual_statement_data_v1/')"
   ]
  },
  {
   "cell_type": "code",
   "execution_count": 5,
   "metadata": {},
   "outputs": [
    {
     "name": "stdout",
     "output_type": "stream",
     "text": [
      "+-------+--------------------+------------+--------------------+-----------+--------------------------+------------+--------------------+--------------------+----------+----------+------------+------------+-------------+--------+----+---------------------+--------------+--------------------------+------------+-------------+------------+---------+\n",
      "|    cik|        company_name|assigned_sic|accession_number_int|filing_date|document_fiscal_year_focus|datapoint_id|      datapoint_name|     datapoint_label|start_date|  end_date|period_month|string_value|numeric_value|decimals|unit|parent_datapoint_name|statement_type|report_section_description|     version|segment_label|segment_hash|footnotes|\n",
      "+-------+--------------------+------------+--------------------+-----------+--------------------------+------------+--------------------+--------------------+----------+----------+------------+------------+-------------+--------+----+---------------------+--------------+--------------------------+------------+-------------+------------+---------+\n",
      "|1023844|NATIONAL HOLDINGS...|        6200|     143774912008501| 2012-08-14|                      2012|    58473476|    ProfessionalFees|   Professional fees|2012-04-01|2012-06-30|           3|      803000|     803000.0|       0| USD| OperatingExpenses...|             I|      Statement - Conde...|us-gaap/2012|         null|        null|     null|\n",
      "|1023844|NATIONAL HOLDINGS...|        6200|     143774912008501| 2012-08-14|                      2012|    58473478|    ProfessionalFees|   Professional fees|2011-10-01|2012-06-30|           9|     1979000|    1979000.0|       0| USD| OperatingExpenses...|             I|      Statement - Conde...|us-gaap/2012|         null|        null|     null|\n",
      "|1023844|NATIONAL HOLDINGS...|        6200|     143774912008501| 2012-08-14|                      2012|    58473550|IncreaseDecreaseI...|Receivables from ...|2011-10-01|2012-06-30|           9|      196000|     196000.0|       0| USD| ChangesInAssetsAn...|             C|      Statement - Conde...|us-gaap/2012|         null|        null|     null|\n",
      "|1023844|NATIONAL HOLDINGS...|        6200|     143774912008501| 2012-08-14|                      2012|    58473479|    ProfessionalFees|   Professional fees|2010-10-01|2011-06-30|           9|     1399000|    1399000.0|       0| USD| OperatingExpenses...|             I|      Statement - Conde...|us-gaap/2012|         null|        null|     null|\n",
      "|1023844|NATIONAL HOLDINGS...|        6200|     143774912008501| 2012-08-14|                      2012|    58473477|    ProfessionalFees|   Professional fees|2011-04-01|2011-06-30|           3|      410000|     410000.0|       0| USD| OperatingExpenses...|             I|      Statement - Conde...|us-gaap/2012|         null|        null|     null|\n",
      "|1023844|NATIONAL HOLDINGS...|        6200|     143774912008501| 2012-08-14|                      2012|    58473551|IncreaseDecreaseI...|Receivables from ...|2010-10-01|2011-06-30|           9|       18000|      18000.0|       0| USD| ChangesInAssetsAn...|             C|      Statement - Conde...|us-gaap/2012|         null|        null|     null|\n",
      "|1023844|NATIONAL HOLDINGS...|        6200|     143774912008501| 2012-08-14|                      2012|    58473482|     InterestExpense|            Interest|2011-10-01|2012-06-30|           9|      764000|     764000.0|       0| USD| OperatingExpenses...|             I|      Statement - Conde...|us-gaap/2012|         null|        null|     null|\n",
      "|1023844|NATIONAL HOLDINGS...|        6200|     143774912008501| 2012-08-14|                      2012|    58473480|     InterestExpense|            Interest|2012-04-01|2012-06-30|           3|      213000|     213000.0|       0| USD| OperatingExpenses...|             I|      Statement - Conde...|us-gaap/2012|         null|        null|     null|\n",
      "|1023844|NATIONAL HOLDINGS...|        6200|     143774912008501| 2012-08-14|                      2012|    58473552|IncreaseDecreaseI...|   Other receivables|2011-10-01|2012-06-30|           9|      779000|     779000.0|       0| USD| ChangesInAssetsAn...|             C|      Statement - Conde...|us-gaap/2012|         null|        null|     null|\n",
      "|1023844|NATIONAL HOLDINGS...|        6200|     143774912008501| 2012-08-14|                      2012|    58473483|     InterestExpense|            Interest|2010-10-01|2011-06-30|           9|      864000|     864000.0|       0| USD| OperatingExpenses...|             I|      Statement - Conde...|us-gaap/2012|         null|        null|     null|\n",
      "+-------+--------------------+------------+--------------------+-----------+--------------------------+------------+--------------------+--------------------+----------+----------+------------+------------+-------------+--------+----+---------------------+--------------+--------------------------+------------+-------------+------------+---------+\n",
      "only showing top 10 rows\n",
      "\n"
     ]
    }
   ],
   "source": [
    "df.show(10)"
   ]
  },
  {
   "cell_type": "code",
   "execution_count": 8,
   "metadata": {},
   "outputs": [],
   "source": [
    "#df.write.parquet(\"s3://sec-finc/annual_statement_data_v3\")"
   ]
  },
  {
   "cell_type": "code",
   "execution_count": 6,
   "metadata": {},
   "outputs": [
    {
     "data": {
      "text/plain": [
       "DataFrame[cik: int, company_name: string, assigned_sic: int, accession_number_int: bigint, filing_date: date, document_fiscal_year_focus: int, datapoint_id: bigint, datapoint_name: string, datapoint_label: string, start_date: date, end_date: date, period_month: bigint, string_value: string, numeric_value: double, decimals: int, unit: string, parent_datapoint_name: string, statement_type: string, report_section_description: string, version: string, segment_label: string, segment_hash: string, footnotes: string]"
      ]
     },
     "execution_count": 6,
     "metadata": {},
     "output_type": "execute_result"
    }
   ],
   "source": [
    "df.cache()"
   ]
  },
  {
   "cell_type": "code",
   "execution_count": 7,
   "metadata": {},
   "outputs": [],
   "source": [
    "df.createOrReplaceTempView('SelectedDF')"
   ]
  },
  {
   "cell_type": "code",
   "execution_count": 8,
   "metadata": {},
   "outputs": [],
   "source": [
    "SelectedDF1 = spark.sql('''\n",
    "    SELECT *\n",
    "    FROM SelectedDF\n",
    "    WHERE datapoint_name in ('CashAndCashEquivalentsAtCarryingValue', 'NetIncomeLoss', 'OperatingIncomeLoss', 'Revenues', \n",
    "    'SalesRevenueNet ', 'CostOfRevenue ', 'EarningsPerShareBasic', 'EarningsPerShareDiluted', \n",
    "    'NetCashProvidedByUsedInOperatingActivities', 'NetCashProvidedByUsedInFinancingActivities', \n",
    "    'NetCashProvidedByUsedInInvestingActivities', 'NetCashProvidedByUsedInOperatingActivitiesContinuingOperations', \n",
    "    'NetCashProvidedByUsedInFinancingActivitiesContinuingOperations', 'NetCashProvidedByUsedInInvestingActivitiesContinuingOperations', \n",
    "    'ShareBasedCompensation', 'PaymentsToAcquirePropertyPlantAndEquipment', 'OperatingExpenses', 'GeneralAndAdministrativeExpense', \n",
    "    'SellingGeneralAndAdministrativeExpense ', 'SellingAndMarketingExpense', 'IncomeTaxesPaid', 'ResearchAndDevelopmentExpense', \n",
    "    'PaymentsForRepurchaseOfCommonStock', 'CostOfGoodsSold', 'CostOfGoodsAndServicesSold', 'CostOfServices', 'RepaymentsOfLongTermDebt', \n",
    "    'PaymentsToAcquireBusinessesNetOfCashAcquired', 'PaymentsOfDividendsCommonStock', 'PaymentsOfDividends', 'LaborAndRelatedExpense', \n",
    "    'PaymentsOfFinancingCosts', 'IncreaseDecreaseInAccountsReceivable', 'AccountsReceivableNetCurrent', 'IncreaseDecreaseInInventories', \n",
    "    'IncreaseDecreaseInAccruedLiabilities', 'IncreaseDecreaseInAccountsPayable', 'LiabilitiesCurrent', 'Liabilities', \n",
    "    'AccountsPayableCurrent', 'StockholdersEquity', 'Assets', 'AssetsCurrent', 'GainLossOnDispositionOfAssets', \n",
    "    'CommonStockValue', 'PreferredStockValue', 'Goodwill', 'PropertyPlantAndEquipmentNet')\n",
    "''')"
   ]
  },
  {
   "cell_type": "code",
   "execution_count": 9,
   "metadata": {},
   "outputs": [
    {
     "name": "stdout",
     "output_type": "stream",
     "text": [
      "+-------+--------------------+------------+--------------------+-----------+--------------------------+------------+--------------------+--------------------+----------+----------+------------+------------+-------------+--------+----+---------------------+--------------+--------------------------+------------+-------------+------------+---------+\n",
      "|    cik|        company_name|assigned_sic|accession_number_int|filing_date|document_fiscal_year_focus|datapoint_id|      datapoint_name|     datapoint_label|start_date|  end_date|period_month|string_value|numeric_value|decimals|unit|parent_datapoint_name|statement_type|report_section_description|     version|segment_label|segment_hash|footnotes|\n",
      "+-------+--------------------+------------+--------------------+-----------+--------------------------+------------+--------------------+--------------------+----------+----------+------------+------------+-------------+--------+----+---------------------+--------------+--------------------------+------------+-------------+------------+---------+\n",
      "|1023844|NATIONAL HOLDINGS...|        6200|     143774912008501| 2012-08-14|                      2012|    58473490|   OperatingExpenses|Total Operating E...|2011-10-01|2012-06-30|           9|    90763000|     9.0763E7|       0| USD|   StatementLineItems|             I|      Statement - Conde...|us-gaap/2012|         null|        null|     null|\n",
      "|1023844|NATIONAL HOLDINGS...|        6200|     143774912008501| 2012-08-14|                      2012|    58473488|   OperatingExpenses|Total Operating E...|2012-04-01|2012-06-30|           3|    30420000|      3.042E7|       0| USD|   StatementLineItems|             I|      Statement - Conde...|us-gaap/2012|         null|        null|     null|\n",
      "|1023844|NATIONAL HOLDINGS...|        6200|     143774912008501| 2012-08-14|                      2012|    58473489|   OperatingExpenses|Total Operating E...|2011-04-01|2011-06-30|           3|    32387000|     3.2387E7|       0| USD|   StatementLineItems|             I|      Statement - Conde...|us-gaap/2012|         null|        null|     null|\n",
      "|1023844|NATIONAL HOLDINGS...|        6200|     143774912008501| 2012-08-14|                      2012|    58473491|   OperatingExpenses|Total Operating E...|2010-10-01|2011-06-30|           9|   101469000|    1.01469E8|       0| USD|   StatementLineItems|             I|      Statement - Conde...|us-gaap/2012|         null|        null|     null|\n",
      "|1023844|NATIONAL HOLDINGS...|        6200|     143774912008501| 2012-08-14|                      2012|    58473494| OperatingIncomeLoss|Net Income (Loss)...|2011-10-01|2012-06-30|           9|    -1066000|   -1066000.0|       0| USD|   StatementLineItems|             I|      Statement - Conde...|us-gaap/2012|         null|        null|     null|\n",
      "|1023844|NATIONAL HOLDINGS...|        6200|     143774912008501| 2012-08-14|                      2012|    58473492| OperatingIncomeLoss|Net Income (Loss)...|2012-04-01|2012-06-30|           3|      670000|     670000.0|       0| USD|   StatementLineItems|             I|      Statement - Conde...|us-gaap/2012|         null|        null|     null|\n",
      "|1023844|NATIONAL HOLDINGS...|        6200|     143774912008501| 2012-08-14|                      2012|    58473493| OperatingIncomeLoss|Net Income (Loss)...|2011-04-01|2011-06-30|           3|     -347000|    -347000.0|       0| USD|   StatementLineItems|             I|      Statement - Conde...|us-gaap/2012|         null|        null|     null|\n",
      "|1023844|NATIONAL HOLDINGS...|        6200|     143774912008501| 2012-08-14|                      2012|    58473495| OperatingIncomeLoss|Net Income (Loss)...|2010-10-01|2011-06-30|           9|     -802000|    -802000.0|       0| USD|   StatementLineItems|             I|      Statement - Conde...|us-gaap/2012|         null|        null|     null|\n",
      "|1023844|NATIONAL HOLDINGS...|        6200|     143774912008501| 2012-08-14|                      2012|    58473566|NetCashProvidedBy...|Net cash used in ...|2011-10-01|2012-06-30|           9|     -388000|    -388000.0|       0| USD| CashFlowsFromOper...|             C|      Statement - Conde...|us-gaap/2012|         null|        null|     null|\n",
      "|1023844|NATIONAL HOLDINGS...|        6200|     143774912008501| 2012-08-14|                      2012|    58473567|NetCashProvidedBy...|Net cash used in ...|2010-10-01|2011-06-30|           9|      406000|     406000.0|       0| USD| CashFlowsFromOper...|             C|      Statement - Conde...|us-gaap/2012|         null|        null|     null|\n",
      "+-------+--------------------+------------+--------------------+-----------+--------------------------+------------+--------------------+--------------------+----------+----------+------------+------------+-------------+--------+----+---------------------+--------------+--------------------------+------------+-------------+------------+---------+\n",
      "only showing top 10 rows\n",
      "\n"
     ]
    }
   ],
   "source": [
    "SelectedDF1.show(10)"
   ]
  },
  {
   "cell_type": "code",
   "execution_count": null,
   "metadata": {},
   "outputs": [],
   "source": []
  },
  {
   "cell_type": "markdown",
   "metadata": {},
   "source": [
    "Yunfei reads from s3"
   ]
  },
  {
   "cell_type": "code",
   "execution_count": 3,
   "metadata": {},
   "outputs": [],
   "source": [
    "SelectedDF = spark.read.parquet('s3://sec-finc/uploaded/')"
   ]
  },
  {
   "cell_type": "markdown",
   "metadata": {},
   "source": [
    "===End of yunfei==="
   ]
  },
  {
   "cell_type": "code",
   "execution_count": 6,
   "metadata": {},
   "outputs": [],
   "source": [
    "# drop duplicates: same data point with the same value only occurs once in each file\n",
    "# accounts for the situation where the same data point appears multiple times\n",
    "\n",
    "SelectedDF1 = SelectedDF1.dropDuplicates(['accession_number_int', 'datapoint_name', 'string_value'])"
   ]
  },
  {
   "cell_type": "code",
   "execution_count": 7,
   "metadata": {},
   "outputs": [
    {
     "name": "stdout",
     "output_type": "stream",
     "text": [
      "+----+--------------------+------------+--------------------+-----------+--------------------------+------------+--------------------+--------------------+----------+----------+------------+------------+-------------+--------+----------+---------------------+--------------+--------------------------+------------+-------------+------------+---------+\n",
      "| cik|        company_name|assigned_sic|accession_number_int|filing_date|document_fiscal_year_focus|datapoint_id|      datapoint_name|     datapoint_label|start_date|  end_date|period_month|string_value|numeric_value|decimals|      unit|parent_datapoint_name|statement_type|report_section_description|     version|segment_label|segment_hash|footnotes|\n",
      "+----+--------------------+------------+--------------------+-----------+--------------------------+------------+--------------------+--------------------+----------+----------+------------+------------+-------------+--------+----------+---------------------+--------------+--------------------------+------------+-------------+------------+---------+\n",
      "|2178|ADAMS RESOURCES &...|        5172|        217811000049| 2011-11-14|                      2011|   465522060|GeneralAndAdminis...|General and admin...|2011-01-01|2011-09-30|           9|     7324000|    7324000.0|      -3|       USD| OperatingExpenses...|             I|      Statement - UNAUD...|us-gaap/2011|         null|        null|     null|\n",
      "|2178|ADAMS RESOURCES &...|        5172|        217811000049| 2011-11-14|                      2011|   465522108|            Revenues|      Total revenues|2011-01-01|2011-09-30|           9|  2323088000|   2.323088E9|      -3|       USD|     RevenuesAbstract|             I|      Statement - UNAUD...|us-gaap/2011|         null|        null|     null|\n",
      "|2178|ADAMS RESOURCES &...|        5172|        217812000026| 2012-05-14|                      2012|   249370573|IncreaseDecreaseI...|Decrease (increas...|2011-01-01|2011-03-31|           3|     4165000|    4165000.0|      -3|       USD| AdjustmentsToReco...|             C|      Statement - UNAUD...|us-gaap/2011|         null|        null|     null|\n",
      "|2178|ADAMS RESOURCES &...|        5172|        217812000026| 2012-05-14|                      2012|   249370631|NetCashProvidedBy...|Net cash (used in...|2011-01-01|2011-03-31|           3|   -17065000|    -1.7065E7|      -3|       USD| NetCashProvidedBy...|             C|      Statement - UNAUD...|us-gaap/2011|         null|        null|     null|\n",
      "|2178|ADAMS RESOURCES &...|        5172|        217813000014| 2013-03-15|                      2012|   112896088|IncreaseDecreaseI...|Decrease (increas...|2011-01-01|2011-12-31|          12|    45487000|     4.5487E7|      -3|       USD| NetCashProvidedBy...|             C|      Statement - CONSO...|us-gaap/2012|         null|        null|     null|\n",
      "|2178|ADAMS RESOURCES &...|        5172|        217813000048| 2013-11-08|                      2013|   220999652| OperatingIncomeLoss|  Operating earnings|2012-07-01|2012-09-30|           3|    13770000|      1.377E7|      -3|       USD| IncomeStatementAb...|             I|      Statement - UNAUD...|us-gaap/2012|         null|        null|     null|\n",
      "|2178|ADAMS RESOURCES &...|        5172|        217814000044| 2014-05-12|                      2014|   369234197|IncreaseDecreaseI...|Increase (decreas...|2014-01-01|2014-03-31|           3|     1758000|    1758000.0|      -3|       USD| NetCashProvidedBy...|             C|      Statement - UNAUD...|us-gaap/2012|         null|        null|     null|\n",
      "|2178|ADAMS RESOURCES &...|        5172|        217815000048| 2015-11-06|                      2015|   599701739|            Revenues|      Total revenues|2015-07-01|2015-09-30|           3|   439893000|    4.39893E8|      -3|       USD|     RevenuesAbstract|             I|      Statement - UNAUD...|us-gaap/2015|         null|        null|     null|\n",
      "|2178|ADAMS RESOURCES &...|        5172|        217816000064| 2016-03-11|                      2015|   652181542|IncreaseDecreaseI...|Decrease (increas...|2015-01-01|2015-12-31|          12|   -72594000|    -7.2594E7|      -3|       USD| NetCashProvidedBy...|             C|      Statement - CONSO...|us-gaap/2015|         null|        null|     null|\n",
      "|2178|ADAMS RESOURCES &...|        5172|        217816000080| 2016-05-09|                      2016|   680856372|IncreaseDecreaseI...|Increase (decreas...|2015-01-01|2015-03-31|           3|     3509000|    3509000.0|      -3|       USD| NetCashProvidedBy...|             C|      Statement - UNAUD...|us-gaap/2015|         null|        null|     null|\n",
      "|2178|ADAMS RESOURCES &...|        5172|        217816000080| 2016-05-09|                      2016|   680856412|NetCashProvidedBy...|Net cash (used in...|2015-01-01|2015-03-31|           3|     -927000|    -927000.0|      -3|       USD| NetCashProvidedBy...|             C|      Statement - UNAUD...|us-gaap/2015|         null|        null|     null|\n",
      "|2178|ADAMS RESOURCES &...|        5172|        217816000080| 2016-05-09|                      2016|   680856409|NetCashProvidedBy...|Net cash provided...|2016-01-01|2016-03-31|           3|    -2358000|   -2358000.0|      -3|       USD| NetCashProvidedBy...|             C|      Statement - UNAUD...|us-gaap/2015|         null|        null|     null|\n",
      "|2178|ADAMS RESOURCES &...|        5172|        217816000080| 2016-05-09|                      2016|   680856444| PaymentsOfDividends|   Dividend payments|2015-01-01|2015-03-31|           3|      927000|     927000.0|      -3|       USD| NetCashProvidedBy...|             C|      Statement - UNAUD...|us-gaap/2015|         null|        null|     null|\n",
      "|2178|ADAMS RESOURCES &...|        5172|        217817000081| 2017-11-09|                      2017|   897569901|IncreaseDecreaseI...| Accounts receivable|2017-01-01|2017-09-30|           9|    -5228000|   -5228000.0|      -3|       USD| IncreaseDecreaseI...|             C|      Statement - UNAUD...|us-gaap/2016|         null|        null|     null|\n",
      "|2178|ADAMS RESOURCES &...|        5172|        217818000009| 2018-03-12|                      2017|   937390108|IncreaseDecreaseI...|         Inventories|2015-01-01|2015-12-31|          12|    -5810000|   -5810000.0|      -3|       USD| IncreaseDecreaseI...|             C|      Statement - CONSO...|us-gaap/2016|         null|        null|     null|\n",
      "|2178|ADAMS RESOURCES &...|        5172|        217818000067| 2018-11-07|                      2018|  1023542395|CashAndCashEquiva...|Cash and cash equ...|      null|2017-09-30|        null|    99449000|     9.9449E7|      -3|       USD| StatementOfCashFl...|             C|      Statement - UNAUD...|us-gaap/2018|         null|        null|     null|\n",
      "|2488|ADVANCED MICRO DE...|        3674|        248816000111| 2016-02-18|                      2015|   651397996|EarningsPerShareB...|               Basic|2015-09-27|2015-12-26|           3|       -0.13|        -0.13|       2|USD/shares| EarningsPerShareA...|             I|      Statement - Conso...|us-gaap/2015|         null|        null|     null|\n",
      "|2488|ADVANCED MICRO DE...|        3674|        248816000111| 2016-02-18|                      2015|   651397997|EarningsPerShareB...|               Basic|2014-12-28|2015-12-26|          12|       -0.84|        -0.84|       2|USD/shares| EarningsPerShareA...|             I|      Statement - Conso...|us-gaap/2015|         null|        null|     null|\n",
      "|2488|ADVANCED MICRO DE...|        3674|        248817000043| 2017-02-21|                      2016|   805494895|EarningsPerShareB...|Basic (USD per sh...|2015-12-27|2016-03-26|           3|       -0.14|        -0.14|       2|USD/shares| EarningsPerShareA...|             I|      Statement - Conso...|us-gaap/2016|         null|        null|     null|\n",
      "|2488|ADVANCED MICRO DE...|        3674|        248817000107| 2017-05-08|                      2017|   826491973|EarningsPerShareD...|Diluted (in usd p...|2015-12-27|2016-03-26|           3|       -0.14|        -0.14|       2|USD/shares| EarningsPerShareA...|             I|      Statement - Conde...|us-gaap/2016|         null|        null|     null|\n",
      "+----+--------------------+------------+--------------------+-----------+--------------------------+------------+--------------------+--------------------+----------+----------+------------+------------+-------------+--------+----------+---------------------+--------------+--------------------------+------------+-------------+------------+---------+\n",
      "only showing top 20 rows\n",
      "\n"
     ]
    }
   ],
   "source": [
    "SelectedDF1.show(20)"
   ]
  },
  {
   "cell_type": "code",
   "execution_count": 8,
   "metadata": {},
   "outputs": [],
   "source": [
    "# Todo: keep data points with date aligned with the focused year\n",
    "\n",
    "SelectedDF2 = SelectedDF1.createOrReplaceTempView('SelectedDF')"
   ]
  },
  {
   "cell_type": "code",
   "execution_count": 9,
   "metadata": {},
   "outputs": [],
   "source": [
    "# Step 1: only include start_date & end_date is in the fiscal_year + period_month = 12\n",
    "temp = spark.sql('''\n",
    "    SELECT *\n",
    "    FROM SelectedDF\n",
    "    WHERE (YEAR(start_date) = document_fiscal_year_focus) AND (YEAR(end_date) = document_fiscal_year_focus)\n",
    "    AND (period_month = 12)\n",
    "''')"
   ]
  },
  {
   "cell_type": "code",
   "execution_count": 10,
   "metadata": {},
   "outputs": [
    {
     "name": "stdout",
     "output_type": "stream",
     "text": [
      "+-----+--------------------+------------+--------------------+-----------+--------------------------+------------+--------------------+--------------------+----------+----------+------------+------------+-------------+--------+----------+---------------------+--------------+--------------------------+------------+-------------+------------+---------+\n",
      "|  cik|        company_name|assigned_sic|accession_number_int|filing_date|document_fiscal_year_focus|datapoint_id|      datapoint_name|     datapoint_label|start_date|  end_date|period_month|string_value|numeric_value|decimals|      unit|parent_datapoint_name|statement_type|report_section_description|     version|segment_label|segment_hash|footnotes|\n",
      "+-----+--------------------+------------+--------------------+-----------+--------------------------+------------+--------------------+--------------------+----------+----------+------------+------------+-------------+--------+----------+---------------------+--------------+--------------------------+------------+-------------+------------+---------+\n",
      "| 2178|ADAMS RESOURCES &...|        5172|        217816000064| 2016-03-11|                      2015|   652181542|IncreaseDecreaseI...|Decrease (increas...|2015-01-01|2015-12-31|          12|   -72594000|    -7.2594E7|      -3|       USD| NetCashProvidedBy...|             C|      Statement - CONSO...|us-gaap/2015|         null|        null|     null|\n",
      "| 3499|      ALEXANDERS INC|        6798|        349918000006| 2018-02-12|                      2017|   880395651|PaymentsOfDividen...|      Dividends paid|2017-01-01|2017-12-31|          12|    86961000|     8.6961E7|      -3|       USD| NetCashProvidedBy...|             C|      Statement - Conso...|us-gaap/2017|         null|        null|     null|\n",
      "| 4187|INDUSTRIAL SERVIC...|        5090|        418716000064| 2016-07-11|                      2015|   708883460|PaymentsToAcquire...|Purchases of prop...|2015-01-01|2015-12-31|          12|       21000|      21000.0|      -3|       USD| NetCashProvidedBy...|             C|      Statement - CONSO...|us-gaap/2016|         null|        null|     null|\n",
      "| 4281|        ARCONIC INC.|        3350|        428119000031| 2019-02-21|                      2018|  1055009212|EarningsPerShareD...|Net loss per shar...|2018-01-01|2018-12-31|          12|        1.30|          1.3|       2|USD/shares| EarningsPerShareD...|             I|      Statement - State...|us-gaap/2018|         null|        null|     null|\n",
      "| 7039|   TRECORA RESOURCES|        2911|        703916000034| 2016-03-11|                      2015|   665918273|GeneralAndAdminis...|Total General and...|2015-01-01|2015-12-31|          12|    23328000|     2.3328E7|      -3|       USD| GeneralAndAdminis...|             I|      Statement - CONSO...|us-gaap/2015|         null|        null|     null|\n",
      "|11544|    BERKLEY W R CORP|        6331|       1154414000012| 2014-02-28|                      2013|   288599743|PaymentsToAcquire...|Net additions to ...|2013-01-01|2013-12-31|          12|    63150000|      6.315E7|      -3|       USD| NetCashProvidedBy...|             C|      Statement - Conso...|us-gaap/2013|         null|        null|     null|\n",
      "|12400|BLACK HILLS POWER...|        4911|       1240018000006| 2018-02-27|                      2017|   923946129|NetCashProvidedBy...|Net cash provided...|2017-01-01|2017-12-31|          12|     -194000|    -194000.0|      -3|       USD| NetCashProvidedBy...|             C|      Statement - State...|us-gaap/2017|         null|        null|     null|\n",
      "|13239|         HEXION INC.|        2821|       1323919000016| 2019-04-11|                      2018|  1089178734|IncreaseDecreaseI...|Increase (Decreas...|2018-01-01|2018-12-31|          12|   -31000000|       -3.1E7|      -6|       USD| IncreaseDecreaseI...|             C|      Statement - Conso...|us-gaap/2018|         null|        null|     null|\n",
      "|14272|BRISTOL MYERS SQU...|        2834|       1427215000055| 2015-02-13|                      2014|   507138177|     CostOfGoodsSold|Cost of products ...|2014-01-01|2014-12-31|          12|  3932000000|      3.932E9|      -6|       USD| IncomeStatementAb...|             I|      Statement - CONSO...|us-gaap/2013|         null|        null|     null|\n",
      "|15615|          MASTEC INC|        1623|       1561515000053| 2015-07-31|                      2014|   570549381|       NetIncomeLoss|Net income attrib...|2014-01-01|2014-12-31|          12|   115923000|    1.15923E8|      -3|       USD| IncomeStatementAb...|             I|      Statement - Conso...|us-gaap/2014|         null|        null|     null|\n",
      "+-----+--------------------+------------+--------------------+-----------+--------------------------+------------+--------------------+--------------------+----------+----------+------------+------------+-------------+--------+----------+---------------------+--------------+--------------------------+------------+-------------+------------+---------+\n",
      "only showing top 10 rows\n",
      "\n"
     ]
    }
   ],
   "source": [
    "temp.show(10)"
   ]
  },
  {
   "cell_type": "code",
   "execution_count": 11,
   "metadata": {},
   "outputs": [
    {
     "name": "stdout",
     "output_type": "stream",
     "text": [
      "+-------+--------------------+------------+--------------------+-----------+--------------------------+--------------------+----------+----------+--------------+-------------+------------+--------------------------+---------------+--------------+---------------------+-----------------------+-----------------------------+-------------------------------+---------------+---------------------------------+------------------------------------+------------------------------------+-----------------------------+----------------------+------------------------------------------+--------------------------------------------------------------+------------------------------------------+--------------------------------------------------------------+------------------------------------------+--------------------------------------------------------------+-------------+-----------------+-------------------+----------------------------------+-------------------+------------------------------+------------------------+--------------------------------------------+------------------------------------------+------------------------+-----------------------------+----------+--------------------------+----------------------+\n",
      "|    cik|        company_name|assigned_sic|accession_number_int|filing_date|document_fiscal_year_focus|     datapoint_label|start_date|  end_date|statement_type|segment_label|segment_hash|CostOfGoodsAndServicesSold|CostOfGoodsSold|CostOfServices|EarningsPerShareBasic|EarningsPerShareDiluted|GainLossOnDispositionOfAssets|GeneralAndAdministrativeExpense|IncomeTaxesPaid|IncreaseDecreaseInAccountsPayable|IncreaseDecreaseInAccountsReceivable|IncreaseDecreaseInAccruedLiabilities|IncreaseDecreaseInInventories|LaborAndRelatedExpense|NetCashProvidedByUsedInFinancingActivities|NetCashProvidedByUsedInFinancingActivitiesContinuingOperations|NetCashProvidedByUsedInInvestingActivities|NetCashProvidedByUsedInInvestingActivitiesContinuingOperations|NetCashProvidedByUsedInOperatingActivities|NetCashProvidedByUsedInOperatingActivitiesContinuingOperations|NetIncomeLoss|OperatingExpenses|OperatingIncomeLoss|PaymentsForRepurchaseOfCommonStock|PaymentsOfDividends|PaymentsOfDividendsCommonStock|PaymentsOfFinancingCosts|PaymentsToAcquireBusinessesNetOfCashAcquired|PaymentsToAcquirePropertyPlantAndEquipment|RepaymentsOfLongTermDebt|ResearchAndDevelopmentExpense|  Revenues|SellingAndMarketingExpense|ShareBasedCompensation|\n",
      "+-------+--------------------+------------+--------------------+-----------+--------------------------+--------------------+----------+----------+--------------+-------------+------------+--------------------------+---------------+--------------+---------------------+-----------------------+-----------------------------+-------------------------------+---------------+---------------------------------+------------------------------------+------------------------------------+-----------------------------+----------------------+------------------------------------------+--------------------------------------------------------------+------------------------------------------+--------------------------------------------------------------+------------------------------------------+--------------------------------------------------------------+-------------+-----------------+-------------------+----------------------------------+-------------------+------------------------------+------------------------+--------------------------------------------+------------------------------------------+------------------------+-----------------------------+----------+--------------------------+----------------------+\n",
      "|1610114|NEW SENIOR INVEST...|        6798|     161011419000009| 2019-02-26|                      2018|Earnings per shar...|2018-01-01|2018-12-31|             I|         null|        null|                      null|           null|          null|                -1.94|                   null|                         null|                           null|           null|                             null|                                null|                                null|                         null|                  null|                                      null|                                                          null|                                      null|                                                          null|                                      null|                                                          null|         null|             null|               null|                              null|               null|                          null|                    null|                                        null|                                      null|                    null|                         null|      null|                      null|                  null|\n",
      "|  69671|       NASH FINCH CO|        5140|     151316212000159| 2012-03-01|                      2011|        Net earnings|2011-01-02|2011-12-31|             C|         null|        null|                      null|           null|          null|                 null|                   null|                         null|                           null|           null|                             null|                                null|                                null|                         null|                  null|                                      null|                                                          null|                                      null|                                                          null|                                      null|                                                          null|     3.5805E7|             null|               null|                              null|               null|                          null|                    null|                                        null|                                      null|                    null|                         null|      null|                      null|                  null|\n",
      "|1089061|      FINDEX COM INC|        3470|     121390016012536| 2016-04-14|                      2015|Purchase of prope...|2015-01-01|2015-12-31|             C|         null|        null|                      null|           null|          null|                 null|                   null|                         null|                           null|           null|                             null|                                null|                                null|                         null|                  null|                                      null|                                                          null|                                      null|                                                          null|                                      null|                                                          null|         null|             null|               null|                              null|               null|                          null|                    null|                                        null|                                      null|                    null|                         null|      null|                      null|                  null|\n",
      "| 714256| SANARA MEDTECH INC.|        3842|     101054913000245| 2013-04-12|                      2012|Net cash flows pr...|2012-01-01|2012-12-31|             C|         null|        null|                      null|           null|          null|                 null|                   null|                         null|                           null|           null|                             null|                                null|                                null|                         null|                  null|                                  896595.0|                                                          null|                                      null|                                                          null|                                      null|                                                          null|         null|             null|               null|                              null|               null|                          null|                    null|                                        null|                                      null|                    null|                         null|      null|                      null|                  null|\n",
      "| 945114|        SYSTEMAX INC|        5084|     162828018003257| 2018-03-15|                      2017|Net cash used in ...|2017-01-01|2017-12-31|             C|         null|        null|                      null|           null|          null|                 null|                   null|                         null|                           null|           null|                             null|                                null|                                null|                         null|                  null|                                   -1.15E7|                                                          null|                                      null|                                                          null|                                      null|                                                          null|         null|             null|               null|                              null|               null|                          null|                    null|                                        null|                                      null|                    null|                         null|      null|                      null|                  null|\n",
      "| 318996|KEY ENERGY SERVIC...|        1389|      31899615000004| 2015-02-25|                      2014|Net cash provided...|2014-01-01|2014-12-31|             C|         null|        null|                      null|           null|          null|                 null|                   null|                         null|                           null|           null|                             null|                                null|                                null|                         null|                  null|                                      null|                                                          null|                                      null|                                                          null|                                 1.64168E8|                                                          null|         null|             null|               null|                              null|               null|                          null|                    null|                                        null|                                      null|                    null|                         null|      null|                      null|                  null|\n",
      "|1623590|   VITAXEL GROUP LTD|         200|     161577417001736| 2017-04-17|                      2016|Purchase of prope...|2016-01-01|2016-12-31|             C|         null|        null|                      null|           null|          null|                 null|                   null|                         null|                           null|           null|                             null|                                null|                                null|                         null|                  null|                                      null|                                                          null|                                      null|                                                          null|                                      null|                                                          null|         null|             null|               null|                              null|               null|                          null|                    null|                                        null|                                  108977.0|                    null|                         null|      null|                      null|                  null|\n",
      "|1166338|        IRELAND INC.|        1040|     106299316008994| 2016-04-14|                      2015|            Net loss|2015-01-01|2015-12-31|             C|         null|        null|                      null|           null|          null|                 null|                   null|                         null|                           null|           null|                             null|                                null|                                null|                         null|                  null|                                      null|                                                          null|                                      null|                                                          null|                                      null|                                                          null|    -471131.0|             null|               null|                              null|               null|                          null|                    null|                                        null|                                      null|                    null|                         null|      null|                      null|                  null|\n",
      "| 355429|PROTECTIVE LIFE CORP|        6311|     104746914001556| 2014-02-28|                      2013|      Total revenues|2013-01-01|2013-12-31|             I|         null|        null|                      null|           null|          null|                 null|                   null|                         null|                           null|           null|                             null|                                null|                                null|                         null|                  null|                                      null|                                                          null|                                      null|                                                          null|                                      null|                                                          null|         null|             null|               null|                              null|               null|                          null|                    null|                                        null|                                      null|                    null|                         null|3.958999E9|                      null|                  null|\n",
      "|1043121|BOSTON PROPERTIES...|        6798|     119312512085776| 2012-02-28|                      2011|       Distributions|2011-01-01|2011-12-31|             C|         null|        null|                      null|           null|          null|                 null|                   null|                         null|                           null|           null|                             null|                                null|                                null|                         null|                  null|                                      null|                                                          null|                                      null|                                                          null|                                      null|                                                          null|         null|             null|               null|                              null|          3.32597E8|                          null|                    null|                                        null|                                      null|                    null|                         null|      null|                      null|                  null|\n",
      "|1393066|RESOLUTE FOREST P...|        2621|     139306615000003| 2015-03-02|                      2014|Payments of finan...|2014-01-01|2014-12-31|             C|         null|        null|                      null|           null|          null|                 null|                   null|                         null|                           null|           null|                             null|                                null|                                null|                         null|                  null|                                      null|                                                          null|                                      null|                                                          null|                                      null|                                                          null|         null|             null|               null|                              null|               null|                          null|               1000000.0|                                        null|                                      null|                    null|                         null|      null|                      null|                  null|\n",
      "|   6769|         APACHE CORP|        1311|     119312512086217| 2012-02-29|                      2011|NET CASH PROVIDED...|2011-01-01|2011-12-31|             C|         null|        null|                      null|           null|          null|                 null|                   null|                         null|                           null|           null|                             null|                                null|                                null|                         null|                  null|                                  -1.147E9|                                                          null|                                      null|                                                          null|                                      null|                                                          null|         null|             null|               null|                              null|               null|                          null|                    null|                                        null|                                      null|                    null|                         null|      null|                      null|                  null|\n",
      "|1144519|           BUNGE LTD|        2070|     114451918000008| 2018-02-23|                      2017|Net income (loss)...|2017-01-01|2017-12-31|             I|         null|        null|                      null|           null|          null|                  0.9|                   0.89|                         null|                           null|           null|                             null|                                null|                                null|                         null|                  null|                                      null|                                                          null|                                      null|                                                          null|                                      null|                                                          null|         null|             null|               null|                              null|               null|                          null|                    null|                                        null|                                      null|                    null|                         null|      null|                      null|                  null|\n",
      "|1314054|PANACHE BEVERAGE,...|        2080|     126493111000160| 2011-03-31|                      2010|CASH FLOWS PROVID...|2010-01-01|2010-12-31|             C|         null|        null|                      null|           null|          null|                 null|                   null|                         null|                           null|           null|                             null|                                null|                                null|                         null|                  null|                                    1681.0|                                                          null|                                      null|                                                          null|                                      null|                                                          null|         null|             null|               null|                              null|               null|                          null|                    null|                                        null|                                      null|                    null|                         null|      null|                      null|                  null|\n",
      "|1375877| CANADIAN SOLAR INC.|        3674|     104746918003229| 2018-04-26|                      2017|Total cost of rev...|2017-01-01|2017-12-31|             I|         null|        null|                2.752795E9|           null|          null|                 null|                   null|                         null|                           null|           null|                             null|                                null|                                null|                         null|                  null|                                      null|                                                          null|                                      null|                                                          null|                                      null|                                                          null|         null|             null|               null|                              null|               null|                          null|                    null|                                        null|                                      null|                    null|                         null|      null|                      null|                  null|\n",
      "| 949428|CDTI ADVANCED MAT...|        3564|     151316215000156| 2015-03-18|                      2014|Cash provided by ...|2014-01-01|2014-12-31|             C|         null|        null|                      null|           null|          null|                 null|                   null|                         null|                           null|           null|                             null|                                null|                                null|                         null|                  null|                                      null|                                                          null|                                      null|                                                     1272000.0|                                      null|                                                          null|         null|             null|               null|                              null|               null|                          null|                    null|                                        null|                                      null|                    null|                         null|      null|                      null|                  null|\n",
      "| 850460|    ENCORE WIRE CORP|        3350|     119312512093858| 2012-03-02|                      2011|Net income per co...|2011-01-01|2011-12-31|             I|         null|        null|                      null|           null|          null|                 2.15|                   null|                         null|                           null|           null|                             null|                                null|                                null|                         null|                  null|                                      null|                                                          null|                                      null|                                                          null|                                      null|                                                          null|         null|             null|               null|                              null|               null|                          null|                    null|                                        null|                                      null|                    null|                         null|      null|                      null|                  null|\n",
      "|1108967|    CUI GLOBAL, INC.|        5065|     114420412016961| 2012-03-26|                      2011|NET CASH (USED IN...|2011-01-01|2011-12-31|             C|         null|        null|                      null|           null|          null|                 null|                   null|                         null|                           null|           null|                             null|                                null|                                null|                         null|                  null|                                      null|                                                     -717205.0|                                      null|                                                          null|                                      null|                                                          null|         null|             null|               null|                              null|               null|                          null|                    null|                                        null|                                      null|                    null|                         null|      null|                      null|                  null|\n",
      "|1584423|APX GROUP HOLDING...|        7380|     119312515107534| 2015-03-27|                      2014|      Total revenues|2014-01-01|2014-12-31|             I|         null|        null|                      null|           null|          null|                 null|                   null|                         null|                           null|           null|                             null|                                null|                                null|                         null|                  null|                                      null|                                                          null|                                      null|                                                          null|                                      null|                                                          null|         null|             null|               null|                              null|               null|                          null|                    null|                                        null|                                      null|                    null|                         null| 5.63677E8|                      null|                  null|\n",
      "|1468174|   HYATT HOTELS CORP|        7011|     119312512065060| 2012-02-16|                      2011|Net cash provided...|2011-01-01|2011-12-31|             C|         null|        null|                      null|           null|          null|                 null|                   null|                         null|                           null|           null|                             null|                                null|                                null|                         null|                  null|                                      null|                                                          null|                                      null|                                                          null|                                      null|                                                        3.93E8|         null|             null|               null|                              null|               null|                          null|                    null|                                        null|                                      null|                    null|                         null|      null|                      null|                  null|\n",
      "+-------+--------------------+------------+--------------------+-----------+--------------------------+--------------------+----------+----------+--------------+-------------+------------+--------------------------+---------------+--------------+---------------------+-----------------------+-----------------------------+-------------------------------+---------------+---------------------------------+------------------------------------+------------------------------------+-----------------------------+----------------------+------------------------------------------+--------------------------------------------------------------+------------------------------------------+--------------------------------------------------------------+------------------------------------------+--------------------------------------------------------------+-------------+-----------------+-------------------+----------------------------------+-------------------+------------------------------+------------------------+--------------------------------------------+------------------------------------------+------------------------+-----------------------------+----------+--------------------------+----------------------+\n",
      "only showing top 20 rows\n",
      "\n"
     ]
    }
   ],
   "source": [
    "# pivot the table\n",
    "from pyspark.sql import functions as F\n",
    "transDF = temp.groupby([\"cik\",\"company_name\",\"assigned_sic\",\"accession_number_int\",\"filing_date\",\"document_fiscal_year_focus\",\"datapoint_label\",\"start_date\",\"end_date\",\"statement_type\",\"segment_label\",\"segment_hash\"])\\\n",
    "    .pivot(\"datapoint_name\")\\\n",
    "    .agg(F.mean(\"numeric_value\"))\n",
    "\n",
    "transDF.show()"
   ]
  },
  {
   "cell_type": "code",
   "execution_count": 12,
   "metadata": {},
   "outputs": [],
   "source": [
    "transTab = transDF.createOrReplaceTempView('transTab')"
   ]
  },
  {
   "cell_type": "code",
   "execution_count": 13,
   "metadata": {},
   "outputs": [],
   "source": [
    "from pyspark.sql.functions import col, count, isnan, lit, sum\n",
    "\n",
    "count = transDF.agg(*[\n",
    "    count(c).alias(c)    # vertical (column-wise) operations in SQL ignore NULLs\n",
    "    for c in transDF.columns\n",
    "])"
   ]
  },
  {
   "cell_type": "code",
   "execution_count": 14,
   "metadata": {},
   "outputs": [
    {
     "name": "stdout",
     "output_type": "stream",
     "text": [
      "+------+------------+------------+--------------------+-----------+--------------------------+---------------+----------+--------+--------------+-------------+------------+--------------------------+---------------+--------------+---------------------+-----------------------+-----------------------------+-------------------------------+---------------+---------------------------------+------------------------------------+------------------------------------+-----------------------------+----------------------+------------------------------------------+--------------------------------------------------------------+------------------------------------------+--------------------------------------------------------------+------------------------------------------+--------------------------------------------------------------+-------------+-----------------+-------------------+----------------------------------+-------------------+------------------------------+------------------------+--------------------------------------------+------------------------------------------+------------------------+-----------------------------+--------+--------------------------+----------------------+\n",
      "|   cik|company_name|assigned_sic|accession_number_int|filing_date|document_fiscal_year_focus|datapoint_label|start_date|end_date|statement_type|segment_label|segment_hash|CostOfGoodsAndServicesSold|CostOfGoodsSold|CostOfServices|EarningsPerShareBasic|EarningsPerShareDiluted|GainLossOnDispositionOfAssets|GeneralAndAdministrativeExpense|IncomeTaxesPaid|IncreaseDecreaseInAccountsPayable|IncreaseDecreaseInAccountsReceivable|IncreaseDecreaseInAccruedLiabilities|IncreaseDecreaseInInventories|LaborAndRelatedExpense|NetCashProvidedByUsedInFinancingActivities|NetCashProvidedByUsedInFinancingActivitiesContinuingOperations|NetCashProvidedByUsedInInvestingActivities|NetCashProvidedByUsedInInvestingActivitiesContinuingOperations|NetCashProvidedByUsedInOperatingActivities|NetCashProvidedByUsedInOperatingActivitiesContinuingOperations|NetIncomeLoss|OperatingExpenses|OperatingIncomeLoss|PaymentsForRepurchaseOfCommonStock|PaymentsOfDividends|PaymentsOfDividendsCommonStock|PaymentsOfFinancingCosts|PaymentsToAcquireBusinessesNetOfCashAcquired|PaymentsToAcquirePropertyPlantAndEquipment|RepaymentsOfLongTermDebt|ResearchAndDevelopmentExpense|Revenues|SellingAndMarketingExpense|ShareBasedCompensation|\n",
      "+------+------------+------------+--------------------+-----------+--------------------------+---------------+----------+--------+--------------+-------------+------------+--------------------------+---------------+--------------+---------------------+-----------------------+-----------------------------+-------------------------------+---------------+---------------------------------+------------------------------------+------------------------------------+-----------------------------+----------------------+------------------------------------------+--------------------------------------------------------------+------------------------------------------+--------------------------------------------------------------+------------------------------------------+--------------------------------------------------------------+-------------+-----------------+-------------------+----------------------------------+-------------------+------------------------------+------------------------+--------------------------------------------+------------------------------------------+------------------------+-----------------------------+--------+--------------------------+----------------------+\n",
      "|477712|      477712|      477586|              477712|     477712|                    477712|         477537|    477712|  477712|        477712|            0|           0|                      4035|           5633|          2398|                18937|                  18083|                         3924|                          15735|          12089|                            15541|                               20540|                                9487|                        15574|                  5618|                                     30428|                                                         10839|                                     28375|                                                         10794|                                     31050|                                                         11855|        35092|            15328|              23704|                             12882|               5339|                          7987|                    4841|                                        9647|                                     25600|                   10343|                         7944|   13908|                      4029|                 27066|\n",
      "+------+------------+------------+--------------------+-----------+--------------------------+---------------+----------+--------+--------------+-------------+------------+--------------------------+---------------+--------------+---------------------+-----------------------+-----------------------------+-------------------------------+---------------+---------------------------------+------------------------------------+------------------------------------+-----------------------------+----------------------+------------------------------------------+--------------------------------------------------------------+------------------------------------------+--------------------------------------------------------------+------------------------------------------+--------------------------------------------------------------+-------------+-----------------+-------------------+----------------------------------+-------------------+------------------------------+------------------------+--------------------------------------------+------------------------------------------+------------------------+-----------------------------+--------+--------------------------+----------------------+\n",
      "\n"
     ]
    }
   ],
   "source": [
    "count.show()"
   ]
  },
  {
   "cell_type": "code",
   "execution_count": 18,
   "metadata": {},
   "outputs": [],
   "source": [
    "transDF.write.parquet('s3://sec-finc/pivot_data_vpq/')"
   ]
  },
  {
   "cell_type": "code",
   "execution_count": 16,
   "metadata": {},
   "outputs": [],
   "source": [
    "comp = spark.sql('''\n",
    "SELECT COUNT (DISTINCT company_name)\n",
    "FROM transTab\n",
    "''')"
   ]
  },
  {
   "cell_type": "code",
   "execution_count": 17,
   "metadata": {},
   "outputs": [
    {
     "name": "stdout",
     "output_type": "stream",
     "text": [
      "+----------------------------+\n",
      "|count(DISTINCT company_name)|\n",
      "+----------------------------+\n",
      "|                        8293|\n",
      "+----------------------------+\n",
      "\n"
     ]
    }
   ],
   "source": [
    "comp.show()"
   ]
  },
  {
   "cell_type": "code",
   "execution_count": null,
   "metadata": {},
   "outputs": [],
   "source": [
    "spark.stop()"
   ]
  }
 ],
 "metadata": {
  "kernelspec": {
   "display_name": "Python 3",
   "language": "python",
   "name": "python3"
  },
  "language_info": {
   "codemirror_mode": {
    "name": "ipython",
    "version": 3
   },
   "file_extension": ".py",
   "mimetype": "text/x-python",
   "name": "python",
   "nbconvert_exporter": "python",
   "pygments_lexer": "ipython3",
   "version": "3.7.6"
  }
 },
 "nbformat": 4,
 "nbformat_minor": 4
}
